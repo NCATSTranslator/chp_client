{
 "cells": [
  {
   "cell_type": "code",
   "execution_count": 1,
   "id": "ca20a149",
   "metadata": {},
   "outputs": [],
   "source": [
    "import json\n",
    "from chp_client import get_client"
   ]
  },
  {
   "cell_type": "code",
   "execution_count": 2,
   "id": "7d9c3407",
   "metadata": {},
   "outputs": [],
   "source": [
    "client = get_client()"
   ]
  },
  {
   "cell_type": "code",
   "execution_count": 3,
   "id": "6cfc1aae",
   "metadata": {},
   "outputs": [
    {
     "name": "stdout",
     "output_type": "stream",
     "text": [
      "{\n",
      "  \"biolink:Gene\": {\n",
      "    \"biolink:Disease\": [\n",
      "      \"biolink:gene_associated_with_condition\"\n",
      "    ],\n",
      "    \"biolink:Drug\": [\n",
      "      \"biolink:interacts_with\"\n",
      "    ]\n",
      "  },\n",
      "  \"biolink:Drug\": {\n",
      "    \"biolink:Disease\": [\n",
      "      \"biolink:treats\"\n",
      "    ],\n",
      "    \"biolink:Gene\": [\n",
      "      \"biolink:interacts_with\"\n",
      "    ]\n",
      "  },\n",
      "  \"biolink:Disease\": {\n",
      "    \"biolink:PhenotypicFeature\": [\n",
      "      \"biolink:has_phenotype\"\n",
      "    ]\n",
      "  }\n",
      "}\n"
     ]
    }
   ],
   "source": [
    "preds = client.predicates()\n",
    "print(json.dumps(preds, indent=2))"
   ]
  },
  {
   "cell_type": "code",
   "execution_count": 4,
   "id": "2ea617c4",
   "metadata": {},
   "outputs": [
    {
     "name": "stdout",
     "output_type": "stream",
     "text": [
      "{\n",
      "  \"biolink:Gene\": {\n",
      "    \"ENSEMBL:ENSG00000106665\": [\n",
      "      \"CLIP2\"\n",
      "    ],\n",
      "    \"ENSEMBL:ENSG00000241973\": [\n",
      "      \"PI4KA\"\n",
      "    ],\n",
      "    \"ENSEMBL:ENSG00000143126\": [\n",
      "      \"CELSR2\"\n",
      "    ],\n",
      "    \"ENSEMBL:ENSG00000115641\": [\n",
      "      \"FHL2\"\n",
      "    ],\n",
      "    \"ENSEMBL:ENSG00000110042\": [\n",
      "      \"DTX4\"\n",
      "    ]\n",
      "  },\n",
      "  \"biolink:Drug\": {\n",
      "    \"CHEMBL:CHEMBL1201247\": [\n",
      "      \"ZOLADEX\",\n",
      "      \"GOSERELIN\"\n",
      "    ],\n",
      "    \"CHEMBL:CHEMBL88\": [\n",
      "      \"CYCLOPHOSPHAMIDE\",\n",
      "      \"CYTOXAN\"\n",
      "    ],\n",
      "    \"CHEMBL:CHEMBL53463\": [\n",
      "      \"DOXORUBICIN\",\n",
      "      \"ADRIAMYCIN\"\n",
      "    ],\n",
      "    \"CHEMBL:CHEMBL1201585\": [\n",
      "      \"HERCEPTIN\",\n",
      "      \"TRASTUZUMAB\"\n",
      "    ],\n",
      "    \"CHEMBL:CHEMBL1351\": [\n",
      "      \"CARBOPLATIN\"\n",
      "    ]\n",
      "  },\n",
      "  \"biolink:PhenotypicFeature\": {\n",
      "    \"EFO:0008007\": [\n",
      "      \"age_of_assessment\",\n",
      "      \"age_of_diagnosis\"\n",
      "    ],\n",
      "    \"EFO:0000714\": [\n",
      "      \"survival_time\"\n",
      "    ],\n",
      "    \"PATO:0000047\": [\n",
      "      \"sex\",\n",
      "      \"gender\"\n",
      "    ],\n",
      "    \"NCIT:C158992\": [\n",
      "      \"path_t\",\n",
      "      \"pathologic_t\",\n",
      "      \"ajcc_pathologic_t\"\n",
      "    ],\n",
      "    \"NCIT:C158989\": [\n",
      "      \"path_m\",\n",
      "      \"pathologic_m\",\n",
      "      \"ajcc_pathologic_m\"\n",
      "    ]\n",
      "  }\n",
      "}\n"
     ]
    }
   ],
   "source": [
    "curies = client.curies()\n",
    "curies_sub = dict()\n",
    "for curie_type, curie_dict in curies.items():\n",
    "    curies_sub[curie_type] = dict()\n",
    "    for curie_id, names in list(curie_dict.items())[:5]:\n",
    "        curies_sub[curie_type][curie_id] = names\n",
    "print(json.dumps(curies_sub, indent=2))"
   ]
  },
  {
   "cell_type": "code",
   "execution_count": 5,
   "id": "f182a8a6",
   "metadata": {},
   "outputs": [
    {
     "name": "stdout",
     "output_type": "stream",
     "text": [
      "{\n",
      "  \"chp\": \"2.3.1\",\n",
      "  \"chp_client\": \"1.1.3\",\n",
      "  \"chp_data\": \"1.0.2\",\n",
      "  \"pybkb\": \"2.0.0\"\n",
      "}\n"
     ]
    }
   ],
   "source": [
    "versions = client.versions()\n",
    "print(json.dumps(versions, indent=2))"
   ]
  },
  {
   "cell_type": "code",
   "execution_count": 6,
   "id": "bb0431fa",
   "metadata": {},
   "outputs": [
    {
     "name": "stderr",
     "output_type": "stream",
     "text": [
      "WARNING:ToolkitGenerator:Range of slot 'treated by' (treatment) does not line with the domain of its inverse (treats)\n",
      "WARNING:ToolkitGenerator:Range of slot 'approved for treatment by' (treatment) does not line with the domain of its inverse (approved to treat)\n",
      "WARNING:ToolkitGenerator:Prefix case mismatch - supplied: NCBIGene expected: NCBIGENE\n",
      "WARNING:ToolkitGenerator:Prefix case mismatch - supplied: NCBIGene expected: NCBIGENE\n"
     ]
    }
   ],
   "source": [
    "from chp_client.query import build_standard_query, build_wildcard_query"
   ]
  },
  {
   "cell_type": "code",
   "execution_count": 14,
   "id": "8f1db2b8",
   "metadata": {},
   "outputs": [
    {
     "name": "stdout",
     "output_type": "stream",
     "text": [
      "0.2617283950617289\n"
     ]
    }
   ],
   "source": [
    "q = build_standard_query(\n",
    "                drugs=['CHEMBL:CHEMBL88'],\n",
    "                disease='MONDO:0007254',\n",
    "                outcome='EFO:0000714',\n",
    "                outcome_name='survival_time',\n",
    "                outcome_op='>',\n",
    "                outcome_value=2000,\n",
    "                trapi_version='1.1',\n",
    "                )\n",
    "valid, message = q.validate()\n",
    "if valid:\n",
    "    response = client.query(q.to_dict())\n",
    "    print(client.get_outcome_prob(response))"
   ]
  },
  {
   "cell_type": "code",
   "execution_count": 25,
   "id": "8607a781",
   "metadata": {
    "scrolled": true
   },
   "outputs": [
    {
     "name": "stdout",
     "output_type": "stream",
     "text": [
      "{\n",
      "  \"message\": {\n",
      "    \"query_graph\": {\n",
      "      \"nodes\": {\n",
      "        \"n0\": {\n",
      "          \"ids\": [\n",
      "            \"MONDO:0007254\"\n",
      "          ],\n",
      "          \"categories\": [\n",
      "            \"biolink:Disease\"\n",
      "          ],\n",
      "          \"constraints\": []\n",
      "        },\n",
      "        \"n1\": {\n",
      "          \"ids\": [\n",
      "            \"ENSEMBL:ENSG00000141510\"\n",
      "          ],\n",
      "          \"categories\": [\n",
      "            \"biolink:Gene\"\n",
      "          ],\n",
      "          \"constraints\": []\n",
      "        },\n",
      "        \"n2\": {\n",
      "          \"ids\": [\n",
      "            \"CHEMBL:CHEMBL1201585\"\n",
      "          ],\n",
      "          \"categories\": [\n",
      "            \"biolink:Drug\"\n",
      "          ],\n",
      "          \"constraints\": []\n",
      "        },\n",
      "        \"n3\": {\n",
      "          \"ids\": [\n",
      "            \"EFO:0000714\"\n",
      "          ],\n",
      "          \"categories\": [\n",
      "            \"biolink:PhenotypicFeature\"\n",
      "          ],\n",
      "          \"constraints\": []\n",
      "        }\n",
      "      },\n",
      "      \"edges\": {\n",
      "        \"e0\": {\n",
      "          \"predicates\": [\n",
      "            \"biolink:gene_associated_with_condition\"\n",
      "          ],\n",
      "          \"relation\": null,\n",
      "          \"subject\": \"n1\",\n",
      "          \"object\": \"n0\",\n",
      "          \"constraints\": []\n",
      "        },\n",
      "        \"e1\": {\n",
      "          \"predicates\": [\n",
      "            \"biolink:treats\"\n",
      "          ],\n",
      "          \"relation\": null,\n",
      "          \"subject\": \"n2\",\n",
      "          \"object\": \"n0\",\n",
      "          \"constraints\": []\n",
      "        },\n",
      "        \"e2\": {\n",
      "          \"predicates\": [\n",
      "            \"biolink:has_phenotype\"\n",
      "          ],\n",
      "          \"relation\": null,\n",
      "          \"subject\": \"n0\",\n",
      "          \"object\": \"n3\",\n",
      "          \"constraints\": [\n",
      "            {\n",
      "              \"name\": \"Survival Time\",\n",
      "              \"id\": \"EFO:0000714\",\n",
      "              \"operator\": \">\",\n",
      "              \"value\": 500,\n",
      "              \"unit_id\": null,\n",
      "              \"unit_name\": null,\n",
      "              \"not\": false\n",
      "            }\n",
      "          ]\n",
      "        }\n",
      "      }\n",
      "    },\n",
      "    \"knowledge_graph\": {\n",
      "      \"nodes\": {},\n",
      "      \"edges\": {}\n",
      "    },\n",
      "    \"results\": []\n",
      "  },\n",
      "  \"max_results\": 10,\n",
      "  \"trapi_version\": \"1.1\",\n",
      "  \"biolink_version\": null\n",
      "}\n"
     ]
    }
   ],
   "source": []
  },
  {
   "cell_type": "code",
   "execution_count": null,
   "id": "85497b0b",
   "metadata": {},
   "outputs": [],
   "source": []
  }
 ],
 "metadata": {
  "kernelspec": {
   "display_name": "Python 3",
   "language": "python",
   "name": "python3"
  },
  "language_info": {
   "codemirror_mode": {
    "name": "ipython",
    "version": 3
   },
   "file_extension": ".py",
   "mimetype": "text/x-python",
   "name": "python",
   "nbconvert_exporter": "python",
   "pygments_lexer": "ipython3",
   "version": "3.9.0"
  }
 },
 "nbformat": 4,
 "nbformat_minor": 5
}
