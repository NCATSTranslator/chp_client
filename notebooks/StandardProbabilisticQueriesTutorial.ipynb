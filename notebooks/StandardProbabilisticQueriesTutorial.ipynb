{
  "nbformat": 4,
  "nbformat_minor": 0,
  "metadata": {
    "colab": {
      "name": "StandardProbabilisticQueriesTutorial.ipynb",
      "provenance": [],
      "toc_visible": true,
      "authorship_tag": "ABX9TyNg/8OoRH6D82PuB4DEN3e0",
      "include_colab_link": true
    },
    "kernelspec": {
      "name": "python3",
      "display_name": "Python 3"
    }
  },
  "cells": [
    {
      "cell_type": "markdown",
      "metadata": {
        "id": "view-in-github",
        "colab_type": "text"
      },
      "source": [
        "<a href=\"https://colab.research.google.com/github/di2ag/chp_client/blob/main/notebooks/StandardProbabilisticQueriesTutorial.ipynb\" target=\"_parent\"><img src=\"https://colab.research.google.com/assets/colab-badge.svg\" alt=\"Open In Colab\"/></a>"
      ]
    },
    {
      "cell_type": "code",
      "metadata": {
        "colab": {
          "base_uri": "https://localhost:8080/"
        },
        "id": "MO0XlAjnZN6b",
        "outputId": "d4a7f6f6-e988-4e9d-aaa6-811c6fe370f1"
      },
      "source": [
        "# Install the CHP client\r\n",
        "!pip install -e git+https://github.com/di2ag/chp_client#egg=chp_client"
      ],
      "execution_count": 1,
      "outputs": [
        {
          "output_type": "stream",
          "text": [
            "Obtaining chp_client from git+https://github.com/di2ag/chp_client#egg=chp_client\n",
            "  Updating ./src/chp-client clone\n",
            "  Running command git fetch -q --tags\n",
            "  Running command git reset --hard -q b62941cbdad3ab66c1e02b9b929bbcda2c12360d\n",
            "Requirement already satisfied: requests in /usr/local/lib/python3.6/dist-packages (from chp_client) (2.23.0)\n",
            "Requirement already satisfied: certifi>=2017.4.17 in /usr/local/lib/python3.6/dist-packages (from requests->chp_client) (2020.12.5)\n",
            "Requirement already satisfied: urllib3!=1.25.0,!=1.25.1,<1.26,>=1.21.1 in /usr/local/lib/python3.6/dist-packages (from requests->chp_client) (1.24.3)\n",
            "Requirement already satisfied: chardet<4,>=3.0.2 in /usr/local/lib/python3.6/dist-packages (from requests->chp_client) (3.0.4)\n",
            "Requirement already satisfied: idna<3,>=2.5 in /usr/local/lib/python3.6/dist-packages (from requests->chp_client) (2.10)\n",
            "Installing collected packages: chp-client\n",
            "  Found existing installation: chp-client 1.0.0\n",
            "    Can't uninstall 'chp-client'. No files were found to uninstall.\n",
            "  Running setup.py develop for chp-client\n",
            "Successfully installed chp-client\n"
          ],
          "name": "stdout"
        }
      ]
    },
    {
      "cell_type": "code",
      "metadata": {
        "id": "rudKH9dZZUyt"
      },
      "source": [
        "# Import modules\r\n",
        "import site\r\n",
        "site.main()\r\n",
        "from chp_client import get_client\r\n",
        "import json"
      ],
      "execution_count": 2,
      "outputs": []
    },
    {
      "cell_type": "code",
      "metadata": {
        "id": "LEMrht8gdBYo"
      },
      "source": [
        "# A function to print json objects pretty\r\n",
        "def pretty_print(json_obj):\r\n",
        "  print(json.dumps(json_obj, indent=2))"
      ],
      "execution_count": 3,
      "outputs": []
    },
    {
      "cell_type": "markdown",
      "metadata": {
        "id": "uAwPf1NscCML"
      },
      "source": [
        "## The Basics"
      ]
    },
    {
      "cell_type": "code",
      "metadata": {
        "id": "BwimgmruZrMJ"
      },
      "source": [
        "# Instantiate a client\r\n",
        "client = get_client()"
      ],
      "execution_count": 4,
      "outputs": []
    },
    {
      "cell_type": "code",
      "metadata": {
        "id": "Q_Z5_Pvha9d3"
      },
      "source": [
        "# Check the predicates and available curies\r\n",
        "curies = client.curies()\r\n",
        "predicates = client.predicates()"
      ],
      "execution_count": 5,
      "outputs": []
    },
    {
      "cell_type": "code",
      "metadata": {
        "colab": {
          "base_uri": "https://localhost:8080/"
        },
        "id": "mIcaJ0ClbJD4",
        "outputId": "192c72f7-49cb-4b86-a679-33986c590d35"
      },
      "source": [
        "# Curies returns a nested dictionary of form curies[{BiolinkEntityType}: {CurieID}: [{List of english names and synonyms}]]\r\n",
        "biolink_entities = list(curies.keys())\r\n",
        "print(biolink_entities)"
      ],
      "execution_count": 6,
      "outputs": [
        {
          "output_type": "stream",
          "text": [
            "['biolink:Gene', 'biolink:Drug', 'biolink:PhenotypicFeature']\n"
          ],
          "name": "stdout"
        }
      ]
    },
    {
      "cell_type": "code",
      "metadata": {
        "colab": {
          "base_uri": "https://localhost:8080/"
        },
        "id": "Z4nWQaThbJ-w",
        "outputId": "253a303e-d0a7-4a55-98d7-8b41d16f3e99"
      },
      "source": [
        "# Prediects returns a nested dictionary of the form predicates[EdgeSourceType][EdgeTargetType] = {Options}\r\n",
        "pretty_print(predicates)"
      ],
      "execution_count": 7,
      "outputs": [
        {
          "output_type": "stream",
          "text": [
            "{\n",
            "  \"biolink:Gene\": {\n",
            "    \"biolink:Disease\": [\n",
            "      \"biolink:GeneToDiseaseAssociation\"\n",
            "    ]\n",
            "  },\n",
            "  \"biolink:Drug\": {\n",
            "    \"biolink:Disease\": [\n",
            "      \"biolink:ChemicalToDiseaseOrPhenotypicFeatureAssociation\"\n",
            "    ],\n",
            "    \"biolink:Gene\": [\n",
            "      \"biolink:ChemicalToGeneAssociation\"\n",
            "    ]\n",
            "  },\n",
            "  \"biolink:Disease\": {\n",
            "    \"biolink:PhenotypicFeature\": [\n",
            "      \"biolink:DiseaseToPhenotypicFeatureAssociation\"\n",
            "    ]\n",
            "  }\n",
            "}\n"
          ],
          "name": "stdout"
        }
      ]
    },
    {
      "cell_type": "markdown",
      "metadata": {
        "id": "y7Em-qGIcHPS"
      },
      "source": [
        "## Query Building\r\n",
        "### Single Standard Probablistic Query"
      ]
    },
    {
      "cell_type": "code",
      "metadata": {
        "id": "rlIkPK3Xb7tf"
      },
      "source": [
        "# First import the query building helper utility\r\n",
        "from chp_client.query import build_query"
      ],
      "execution_count": 8,
      "outputs": []
    },
    {
      "cell_type": "code",
      "metadata": {
        "colab": {
          "base_uri": "https://localhost:8080/"
        },
        "id": "T6ljEiSNcXwv",
        "outputId": "a369be63-8ea5-43fe-dd33-df7ff3aa2846"
      },
      "source": [
        "# Let's build a simple single query\r\n",
        "q = build_query(genes = ['ENSEMBL:ENSG00000132155'],\r\n",
        "                therapeutic='CHEMBL:CHEMBL88',\r\n",
        "                disease='MONDO:0007254',\r\n",
        "                outcome=('EFO:0000714', '>=', 1000))\r\n",
        "pretty_print(q)"
      ],
      "execution_count": 9,
      "outputs": [
        {
          "output_type": "stream",
          "text": [
            "{\n",
            "  \"message\": {\n",
            "    \"query_graph\": {\n",
            "      \"edges\": {\n",
            "        \"e0\": {\n",
            "          \"predicate\": \"biolink:GeneToDiseaseAssociation\",\n",
            "          \"subject\": \"n0\",\n",
            "          \"object\": \"n2\"\n",
            "        },\n",
            "        \"e1\": {\n",
            "          \"predicate\": \"biolink:ChemicalToDiseaseOrPhenotypicFeatureAssociation\",\n",
            "          \"subject\": \"n1\",\n",
            "          \"object\": \"n2\"\n",
            "        },\n",
            "        \"e2\": {\n",
            "          \"predicate\": \"biolink:DiseaseToPhenotypicFeatureAssociation\",\n",
            "          \"subject\": \"n2\",\n",
            "          \"object\": \"n3\",\n",
            "          \"properties\": {\n",
            "            \"qualifier\": \">=\",\n",
            "            \"days\": 1000\n",
            "          }\n",
            "        }\n",
            "      },\n",
            "      \"nodes\": {\n",
            "        \"n0\": {\n",
            "          \"category\": \"biolink:Gene\",\n",
            "          \"id\": \"ENSEMBL:ENSG00000132155\"\n",
            "        },\n",
            "        \"n1\": {\n",
            "          \"category\": \"biolink:Drug\",\n",
            "          \"id\": \"CHEMBL:CHEMBL88\"\n",
            "        },\n",
            "        \"n2\": {\n",
            "          \"category\": \"biolink:Disease\",\n",
            "          \"id\": \"MONDO:0007254\"\n",
            "        },\n",
            "        \"n3\": {\n",
            "          \"category\": \"biolink:PhenotypicFeature\",\n",
            "          \"id\": \"EFO:0000714\"\n",
            "        }\n",
            "      }\n",
            "    },\n",
            "    \"knowledge_graph\": {\n",
            "      \"edges\": {},\n",
            "      \"nodes\": {}\n",
            "    },\n",
            "    \"results\": []\n",
            "  }\n",
            "}\n"
          ],
          "name": "stdout"
        }
      ]
    },
    {
      "cell_type": "code",
      "metadata": {
        "colab": {
          "base_uri": "https://localhost:8080/"
        },
        "id": "26vHzRsGcoU2",
        "outputId": "a5f90c6f-1fad-4f7d-9024-a334257c19df"
      },
      "source": [
        "# Now let's run the query\r\n",
        "res = client.query(q)\r\n",
        "pretty_print(res)"
      ],
      "execution_count": 10,
      "outputs": [
        {
          "output_type": "stream",
          "text": [
            "{\n",
            "  \"message\": {\n",
            "    \"query_graph\": {\n",
            "      \"edges\": {\n",
            "        \"e0\": {\n",
            "          \"predicate\": \"biolink:GeneToDiseaseAssociation\",\n",
            "          \"subject\": \"n0\",\n",
            "          \"object\": \"n2\"\n",
            "        },\n",
            "        \"e1\": {\n",
            "          \"predicate\": \"biolink:ChemicalToDiseaseOrPhenotypicFeatureAssociation\",\n",
            "          \"subject\": \"n1\",\n",
            "          \"object\": \"n2\"\n",
            "        },\n",
            "        \"e2\": {\n",
            "          \"predicate\": \"biolink:DiseaseToPhenotypicFeatureAssociation\",\n",
            "          \"subject\": \"n2\",\n",
            "          \"object\": \"n3\",\n",
            "          \"properties\": {\n",
            "            \"qualifier\": \">=\",\n",
            "            \"days\": 1000\n",
            "          }\n",
            "        }\n",
            "      },\n",
            "      \"nodes\": {\n",
            "        \"n0\": {\n",
            "          \"category\": \"biolink:Gene\",\n",
            "          \"id\": \"ENSEMBL:ENSG00000132155\"\n",
            "        },\n",
            "        \"n1\": {\n",
            "          \"category\": \"biolink:Drug\",\n",
            "          \"id\": \"CHEMBL:CHEMBL88\"\n",
            "        },\n",
            "        \"n2\": {\n",
            "          \"category\": \"biolink:Disease\",\n",
            "          \"id\": \"MONDO:0007254\"\n",
            "        },\n",
            "        \"n3\": {\n",
            "          \"category\": \"biolink:PhenotypicFeature\",\n",
            "          \"id\": \"EFO:0000714\"\n",
            "        }\n",
            "      }\n",
            "    },\n",
            "    \"knowledge_graph\": {\n",
            "      \"edges\": {\n",
            "        \"kge0\": {\n",
            "          \"predicate\": \"biolink:GeneToDiseaseAssociation\",\n",
            "          \"subject\": \"ENSEMBL:ENSG00000132155\",\n",
            "          \"object\": \"MONDO:0007254\"\n",
            "        },\n",
            "        \"kge1\": {\n",
            "          \"predicate\": \"biolink:ChemicalToDiseaseOrPhenotypicFeatureAssociation\",\n",
            "          \"subject\": \"CHEMBL:CHEMBL88\",\n",
            "          \"object\": \"MONDO:0007254\"\n",
            "        },\n",
            "        \"kge2\": {\n",
            "          \"predicate\": \"biolink:DiseaseToPhenotypicFeatureAssociation\",\n",
            "          \"subject\": \"MONDO:0007254\",\n",
            "          \"object\": \"EFO:0000714\",\n",
            "          \"properties\": {\n",
            "            \"qualifier\": \">=\",\n",
            "            \"days\": 1000\n",
            "          },\n",
            "          \"has_confidence_level\": 0.5\n",
            "        }\n",
            "      },\n",
            "      \"nodes\": {\n",
            "        \"ENSEMBL:ENSG00000132155\": {\n",
            "          \"category\": \"biolink:Gene\",\n",
            "          \"name\": [\n",
            "            \"RAF1\"\n",
            "          ]\n",
            "        },\n",
            "        \"CHEMBL:CHEMBL88\": {\n",
            "          \"category\": \"biolink:Drug\",\n",
            "          \"name\": [\n",
            "            \"CYCLOPHOSPHAMIDE\",\n",
            "            \"CYTOXAN\"\n",
            "          ]\n",
            "        },\n",
            "        \"MONDO:0007254\": {\n",
            "          \"category\": \"biolink:Disease\"\n",
            "        },\n",
            "        \"EFO:0000714\": {\n",
            "          \"category\": \"biolink:PhenotypicFeature\"\n",
            "        }\n",
            "      }\n",
            "    },\n",
            "    \"results\": [\n",
            "      {\n",
            "        \"edge_bindings\": {\n",
            "          \"e0\": [\n",
            "            {\n",
            "              \"id\": \"kge0\"\n",
            "            }\n",
            "          ],\n",
            "          \"e1\": [\n",
            "            {\n",
            "              \"id\": \"kge1\"\n",
            "            }\n",
            "          ],\n",
            "          \"e2\": [\n",
            "            {\n",
            "              \"id\": \"kge2\"\n",
            "            }\n",
            "          ]\n",
            "        },\n",
            "        \"node_bindings\": {\n",
            "          \"n0\": [\n",
            "            {\n",
            "              \"id\": \"ENSEMBL:ENSG00000132155\"\n",
            "            }\n",
            "          ],\n",
            "          \"n1\": [\n",
            "            {\n",
            "              \"id\": \"CHEMBL:CHEMBL88\"\n",
            "            }\n",
            "          ],\n",
            "          \"n2\": [\n",
            "            {\n",
            "              \"id\": \"MONDO:0007254\"\n",
            "            }\n",
            "          ],\n",
            "          \"n3\": [\n",
            "            {\n",
            "              \"id\": \"EFO:0000714\"\n",
            "            }\n",
            "          ]\n",
            "        }\n",
            "      }\n",
            "    ]\n",
            "  }\n",
            "}\n"
          ],
          "name": "stdout"
        }
      ]
    },
    {
      "cell_type": "code",
      "metadata": {
        "colab": {
          "base_uri": "https://localhost:8080/"
        },
        "id": "6W2pFxwEc7qV",
        "outputId": "61e11e19-1cf1-4c3a-dc0a-1f655ea1ed28"
      },
      "source": [
        "# Now let's extract the important probabilistic information from the response\r\n",
        "prob = client.get_outcome_prob(res)\r\n",
        "print('Probability of survival',prob)"
      ],
      "execution_count": 11,
      "outputs": [
        {
          "output_type": "stream",
          "text": [
            "Probability of survival 0.5\n"
          ],
          "name": "stdout"
        }
      ]
    },
    {
      "cell_type": "markdown",
      "metadata": {
        "id": "FApcUW5fdzhj"
      },
      "source": [
        "### Batch queries"
      ]
    },
    {
      "cell_type": "code",
      "metadata": {
        "id": "BOJjNpX_dyNj"
      },
      "source": [
        "# Now let's build and run a batch of queries\r\n",
        "genes = list(curies['biolink:Gene'].keys())[:50]\r\n",
        "therapeutic='CHEMBL:CHEMBL88'\r\n",
        "disease='MONDO:0007254'\r\n",
        "outcome=('EFO:0000714', '>=', 1000)\r\n",
        "\r\n",
        "# Now we will iterate through the genes building a query for each gene in the genes ilst.\r\n",
        "queries = []\r\n",
        "for _gene in genes:\r\n",
        "  queries.append(build_query(\r\n",
        "      genes=[_gene],\r\n",
        "      therapeutic=therapeutic,\r\n",
        "      disease=disease,\r\n",
        "      outcome=outcome,\r\n",
        "  ))"
      ],
      "execution_count": 12,
      "outputs": []
    },
    {
      "cell_type": "code",
      "metadata": {
        "id": "bj7QtkVEc8KW"
      },
      "source": [
        "# Now use the query_all endpoint to run the batch of queries\r\n",
        "res = client.query_all(queries)"
      ],
      "execution_count": 13,
      "outputs": []
    },
    {
      "cell_type": "code",
      "metadata": {
        "colab": {
          "base_uri": "https://localhost:8080/"
        },
        "id": "i78aMkFfe2Gc",
        "outputId": "b26b90cd-71ac-4b54-ba78-beb5cd6e67f2"
      },
      "source": [
        "# Now let's extract the probabilities of each of these. The resultant message is\r\n",
        "# a list corresponding to your batch, so make sure to extract appropriately.\r\n",
        "for result, _gene in zip(res[\"message\"], genes):\r\n",
        "  prob = client.get_outcome_prob(result)\r\n",
        "  print('Probability of survival for {_gene} =', prob)"
      ],
      "execution_count": 14,
      "outputs": [
        {
          "output_type": "stream",
          "text": [
            "Probability of survival for {_gene} = 1.0\n",
            "Probability of survival for {_gene} = 0.6666666666666666\n",
            "Probability of survival for {_gene} = 0.5\n",
            "Probability of survival for {_gene} = -1\n",
            "Probability of survival for {_gene} = 0.5\n",
            "Probability of survival for {_gene} = -1\n",
            "Probability of survival for {_gene} = 0\n",
            "Probability of survival for {_gene} = 0.5\n",
            "Probability of survival for {_gene} = -1\n",
            "Probability of survival for {_gene} = 0\n",
            "Probability of survival for {_gene} = 1.0\n",
            "Probability of survival for {_gene} = 0.6666666666666666\n",
            "Probability of survival for {_gene} = 0.3333333333333333\n",
            "Probability of survival for {_gene} = -1\n",
            "Probability of survival for {_gene} = 1.0\n",
            "Probability of survival for {_gene} = 0.5\n",
            "Probability of survival for {_gene} = -1\n",
            "Probability of survival for {_gene} = 0.4285714285714286\n",
            "Probability of survival for {_gene} = 1.0\n",
            "Probability of survival for {_gene} = 1.0\n",
            "Probability of survival for {_gene} = 1.0\n",
            "Probability of survival for {_gene} = 1.0\n",
            "Probability of survival for {_gene} = 0.3333333333333333\n",
            "Probability of survival for {_gene} = 0\n",
            "Probability of survival for {_gene} = 0.39999999999999997\n",
            "Probability of survival for {_gene} = 0.5\n",
            "Probability of survival for {_gene} = 0.5\n",
            "Probability of survival for {_gene} = 0\n",
            "Probability of survival for {_gene} = -1\n",
            "Probability of survival for {_gene} = 1.0\n",
            "Probability of survival for {_gene} = 1.0\n",
            "Probability of survival for {_gene} = 0.8\n",
            "Probability of survival for {_gene} = 0\n",
            "Probability of survival for {_gene} = 1.0\n",
            "Probability of survival for {_gene} = 1.0\n",
            "Probability of survival for {_gene} = 0.6\n",
            "Probability of survival for {_gene} = 0\n",
            "Probability of survival for {_gene} = -1\n",
            "Probability of survival for {_gene} = 1.0\n",
            "Probability of survival for {_gene} = 1.0\n",
            "Probability of survival for {_gene} = 0.6666666666666666\n",
            "Probability of survival for {_gene} = 0.5\n",
            "Probability of survival for {_gene} = 0.6666666666666666\n",
            "Probability of survival for {_gene} = 1.0\n",
            "Probability of survival for {_gene} = -1\n",
            "Probability of survival for {_gene} = 0\n",
            "Probability of survival for {_gene} = 1.0\n",
            "Probability of survival for {_gene} = 0.5\n",
            "Probability of survival for {_gene} = 0\n",
            "Probability of survival for {_gene} = -1\n"
          ],
          "name": "stdout"
        }
      ]
    },
    {
      "cell_type": "markdown",
      "metadata": {
        "id": "2eOg6wFVjagc"
      },
      "source": [
        "## What does -1 Probability mean?\r\n",
        "\r\n",
        "You will notice that some answers give a probability of -1. This is not a bug, it's a feature. This means that we were not able to make an inference about the query. Therefore, you can treat these probabilities as zeros or present the result to the user as something different like, \"not enough information\", \"no inference can be made\", etc. Since our KP can handle incomplete information, semantically a -1 result is a little bit different than 0 and we like to classify that difference for you."
      ]
    }
  ]
}